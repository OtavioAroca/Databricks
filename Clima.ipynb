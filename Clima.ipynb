{
 "cells": [
  {
   "cell_type": "code",
   "execution_count": 0,
   "metadata": {
    "application/vnd.databricks.v1+cell": {
     "cellMetadata": {
      "byteLimit": 2048000,
      "rowLimit": 10000
     },
     "inputWidgets": {},
     "nuid": "30403e08-edb9-4ef6-b923-4f1def0f029c",
     "showTitle": false,
     "tableResultSettingsMap": {},
     "title": ""
    }
   },
   "outputs": [],
   "source": [
    "from pyspark.sql import SparkSession\n",
    "from pyspark.sql.functions import col, from_json\n",
    "from pyspark.sql.types import StructType, StructField, StringType, DoubleType, TimestampType\n",
    "from pyspark.sql.functions import current_timestamp"
   ]
  },
  {
   "cell_type": "code",
   "execution_count": 0,
   "metadata": {
    "application/vnd.databricks.v1+cell": {
     "cellMetadata": {
      "byteLimit": 2048000,
      "rowLimit": 10000
     },
     "inputWidgets": {},
     "nuid": "12982833-9ca9-489a-8ce3-253b9f184b85",
     "showTitle": false,
     "tableResultSettingsMap": {},
     "title": ""
    }
   },
   "outputs": [],
   "source": [
    "import requests\n",
    "import sqlite3\n",
    "from datetime import datetime\n",
    "\n",
    "# Coordenadas de São Paulo\n",
    "lat = -23.5505\n",
    "lon = -46.6333\n",
    "\n",
    "url = f\"https://api.met.no/weatherapi/locationforecast/2.0/compact?lat={lat}&lon={lon}\"\n",
    "headers = {\n",
    "    \"User-Agent\": \"anon-script\"\n",
    "}\n",
    "\n",
    "\n",
    "resposta = requests.get(url, headers=headers)\n",
    "\n",
    "if resposta.status_code == 200:\n",
    "    dados = resposta.json()\n",
    "    tempo = dados['properties']['timeseries'][0]['data']['instant']['details']\n",
    "    \n",
    "  \n",
    "    temperatura = tempo['air_temperature']\n",
    "    umidade = tempo.get('relative_humidity', None)\n",
    "    pressao = tempo['air_pressure_at_sea_level']\n",
    "    data_coleta = datetime.now().strftime(\"%Y-%m-%d %H:%M:%S\")\n",
    "\n"
   ]
  },
  {
   "cell_type": "code",
   "execution_count": 0,
   "metadata": {
    "application/vnd.databricks.v1+cell": {
     "cellMetadata": {
      "byteLimit": 2048000,
      "rowLimit": 10000
     },
     "inputWidgets": {},
     "nuid": "f8c50a4d-10ec-46d2-a038-075e98980eb8",
     "showTitle": false,
     "tableResultSettingsMap": {},
     "title": ""
    }
   },
   "outputs": [],
   "source": [
    "rows = []\n",
    "for item in dados['properties'][\"timeseries\"]:\n",
    "    time = item[\"time\"]\n",
    "    details = item[\"data\"][\"instant\"][\"details\"]\n",
    "    row = {\"time\": time, **details}\n",
    "    rows.append(row)\n",
    "\n",
    "df = spark.createDataFrame(rows)\n",
    "df = df.withColumn(\"time\", col(\"time\").cast(TimestampType()))\n",
    "df = df.withColumn(\"data_processamento\", current_timestamp())"
   ]
  },
  {
   "cell_type": "code",
   "execution_count": 0,
   "metadata": {
    "application/vnd.databricks.v1+cell": {
     "cellMetadata": {
      "byteLimit": 2048000,
      "rowLimit": 10000
     },
     "inputWidgets": {},
     "nuid": "b187ac46-cbcb-4047-800c-9d11f7ed09e4",
     "showTitle": false,
     "tableResultSettingsMap": {},
     "title": ""
    }
   },
   "outputs": [],
   "source": [
    "df.write.mode(\"append\").saveAsTable(\"clima.bronze.weather\")"
   ]
  }
 ],
 "metadata": {
  "application/vnd.databricks.v1+notebook": {
   "computePreferences": null,
   "dashboards": [],
   "environmentMetadata": {
    "base_environment": "",
    "environment_version": "2"
   },
   "inputWidgetPreferences": null,
   "language": "python",
   "notebookMetadata": {
    "mostRecentlyExecutedCommandWithImplicitDF": {
     "commandId": 8149677726275259,
     "dataframes": [
      "_sqldf"
     ]
    },
    "pythonIndentUnit": 4
   },
   "notebookName": "Clima",
   "widgets": {}
  },
  "language_info": {
   "name": "python"
  }
 },
 "nbformat": 4,
 "nbformat_minor": 0
}
